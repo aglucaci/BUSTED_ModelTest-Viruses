{
 "cells": [
  {
   "cell_type": "markdown",
   "id": "complex-berkeley",
   "metadata": {},
   "source": [
    "## Imports"
   ]
  },
  {
   "cell_type": "code",
   "execution_count": 1,
   "id": "radical-anxiety",
   "metadata": {},
   "outputs": [],
   "source": [
    "import pandas as pd\n",
    "#import plotly.express as px\n",
    "#from prettytable import PrettyTable\n",
    "#import plotly.graph_objects as go\n",
    "import numpy as np\n",
    "import random\n",
    "import csv\n",
    "import os\n",
    "import json\n",
    "#from tqdm import tqdm\n",
    "import math\n",
    "#from scipy.stats import wasserstein_distance"
   ]
  },
  {
   "cell_type": "markdown",
   "id": "decreased-tract",
   "metadata": {},
   "source": [
    "## Declares"
   ]
  },
  {
   "cell_type": "code",
   "execution_count": 2,
   "id": "outer-supplier",
   "metadata": {},
   "outputs": [
    {
     "ename": "NameError",
     "evalue": "name 'snakemake' is not defined",
     "output_type": "error",
     "traceback": [
      "\u001b[0;31m---------------------------------------------------------------------------\u001b[0m",
      "\u001b[0;31mNameError\u001b[0m                                 Traceback (most recent call last)",
      "\u001b[0;32m/var/folders/3l/76gtv9qd0v3_8hn3cb7hfbs40000gn/T/ipykernel_6494/2584260206.py\u001b[0m in \u001b[0;36m<module>\u001b[0;34m\u001b[0m\n\u001b[1;32m     11\u001b[0m \u001b[0;34m\u001b[0m\u001b[0m\n\u001b[1;32m     12\u001b[0m \u001b[0;31m# Input\u001b[0m\u001b[0;34m\u001b[0m\u001b[0;34m\u001b[0m\u001b[0m\n\u001b[0;32m---> 13\u001b[0;31m \u001b[0mBS\u001b[0m   \u001b[0;34m=\u001b[0m \u001b[0msnakemake\u001b[0m\u001b[0;34m.\u001b[0m\u001b[0minput\u001b[0m\u001b[0;34m.\u001b[0m\u001b[0mBS\u001b[0m\u001b[0;34m\u001b[0m\u001b[0;34m\u001b[0m\u001b[0m\n\u001b[0m\u001b[1;32m     14\u001b[0m \u001b[0mBSMH\u001b[0m \u001b[0;34m=\u001b[0m \u001b[0msnakemake\u001b[0m\u001b[0;34m.\u001b[0m\u001b[0minput\u001b[0m\u001b[0;34m.\u001b[0m\u001b[0mBSMH\u001b[0m\u001b[0;34m\u001b[0m\u001b[0;34m\u001b[0m\u001b[0m\n\u001b[1;32m     15\u001b[0m \u001b[0mBASE\u001b[0m \u001b[0;34m=\u001b[0m \u001b[0msnakemake\u001b[0m\u001b[0;34m.\u001b[0m\u001b[0minput\u001b[0m\u001b[0;34m.\u001b[0m\u001b[0mBASE\u001b[0m\u001b[0;34m\u001b[0m\u001b[0;34m\u001b[0m\u001b[0m\n",
      "\u001b[0;31mNameError\u001b[0m: name 'snakemake' is not defined"
     ]
    }
   ],
   "source": [
    "# MAC OSX\n",
    "#WD = \"/Users/alex/Documents/BUSTED_ModelTest\"\n",
    "#WD = os.path.join(\"E:\\\\\", \"BUSTED_ModelTest\")\n",
    "#WD = \"/Users/alex/Documents/BUSTED_ModelTest-develop\"\n",
    "\n",
    "# Dataset tag (User defined) ---\n",
    "#tag = \"results\"\n",
    "\n",
    "# Additional declares\n",
    "#RESULTS_DIR = os.path.join(WD, tag)\n",
    "\n",
    "# Input\n",
    "BS   = snakemake.input.BS\n",
    "BSMH = snakemake.input.BSMH\n",
    "BASE = snakemake.input.BASE\n",
    "BMH  = snakemake.input.BMH\n",
    "\n",
    "# Create tables folder\n",
    "OUTPUT_CSV = snakemake.output.outputCSV\n",
    "\n",
    "ER_Threshold = 5\n",
    "ER_Threshold_loose = 1\n",
    "pval_Threshold = 0.05\n",
    "Tests = 4"
   ]
  },
  {
   "cell_type": "code",
   "execution_count": 3,
   "id": "sealed-flexibility",
   "metadata": {},
   "outputs": [],
   "source": [
    "def read_json(filename):\n",
    "    #print(\"# Reading:\", filename)\n",
    "    if os.stat(filename).st_size == 0: \n",
    "        print(\"# -- Error -- file is empty:\", filename)\n",
    "        return []\n",
    "    #end if\n",
    "    with open(filename, \"r\") as fh:\n",
    "        json_data = json.load(fh)\n",
    "    fh.close()\n",
    "    return json_data\n",
    "#end method\n",
    "\n",
    "#define function to calculate cv\n",
    "#cv = lambda x: np.std(x, ddof=1) / np.mean(x) * 100 \n",
    "cv = lambda x: np.std(x) / np.mean(x)\n",
    "\n",
    "pctchg = lambda a, b: (a / b) * 100"
   ]
  },
  {
   "cell_type": "code",
   "execution_count": 37,
   "id": "similar-active",
   "metadata": {},
   "outputs": [],
   "source": [
    "def process(FILES, fileending, method, pval_Threshold, Tests):\n",
    "    df_dict = {}\n",
    "    \n",
    "    Bonferroni_pval = pval_Threshold / Tests\n",
    "    \n",
    "    for item in FILES:\n",
    "        print(\"# Processing:\", item)\n",
    "        basename = \"\"\n",
    "        \n",
    "        if fileending in os.path.basename(item):\n",
    "            basename = os.path.basename(item).replace(fileending, \"\")\n",
    "        #end if\n",
    "        \n",
    "        for fext in [\".phy\", \".fasta\", \".nex\", \"-align-dna.fas\", \"-Aligned-DNA.fas\"]:\n",
    "            basename = basename.replace(fext, \"\")\n",
    "        #end for\n",
    "        \n",
    "        json_data = read_json(item) # Read json\n",
    "\n",
    "        if json_data == []:\n",
    "            continue # Empty file\n",
    "        #end if\n",
    "        \n",
    "        df_dict[basename] = {\"Method\": method}\n",
    "        df_dict[basename].update({\"Sequences\": json_data[\"input\"][\"number of sequences\"]})\n",
    "        df_dict[basename].update({\"Codons\": json_data[\"input\"][\"number of sites\"]})\n",
    "        df_dict[basename].update({\"LRT p-value\": json_data[\"test results\"][\"p-value\"]})\n",
    "        \n",
    "        df_dict[basename].update({\"Bonferroni p-value\": Bonferroni_pval})\n",
    "        \n",
    "        Bonferroni_sig = False\n",
    "        \n",
    "        if json_data[\"test results\"][\"p-value\"] <= Bonferroni_pval:\n",
    "            Bonferroni_sig = True\n",
    "        #end if\n",
    "        \n",
    "        # Bonferroni Test\n",
    "        df_dict[basename].update({\"Bonferroni significant\": str(Bonferroni_sig)})\n",
    "\n",
    "        # cAIC\n",
    "        df_dict[basename].update({\"cAIC\": json_data[\"fits\"][\"Unconstrained model\"][\"AIC-c\"]})\n",
    "        \"\"\"\n",
    "        # Omegas\n",
    "        A = json_data[\"fits\"][\"Unconstrained model\"][\"Rate Distributions\"][\"Test\"][\"0\"][\"omega\"] \n",
    "        B = json_data[\"fits\"][\"Unconstrained model\"][\"Rate Distributions\"][\"Test\"][\"1\"][\"omega\"] \n",
    "        C = json_data[\"fits\"][\"Unconstrained model\"][\"Rate Distributions\"][\"Test\"][\"2\"][\"omega\"] \n",
    "        df_dict[basename].update({\"CV(omega)\": cv([A, B, C])})\n",
    "\n",
    "        try:\n",
    "            D = json_data[\"fits\"][\"Unconstrained model\"][\"Rate Distributions\"][\"Synonymous site-to-site rates\"][\"0\"][\"rate\"] \n",
    "            E = json_data[\"fits\"][\"Unconstrained model\"][\"Rate Distributions\"][\"Synonymous site-to-site rates\"][\"1\"][\"rate\"] \n",
    "            F = json_data[\"fits\"][\"Unconstrained model\"][\"Rate Distributions\"][\"Synonymous site-to-site rates\"][\"2\"][\"rate\"] \n",
    "            df_dict[basename].update({\"CV(alpha)\": cv([D, E, F])})\n",
    "        except:\n",
    "            pass\n",
    "        #end try\n",
    "        \"\"\"\n",
    "        \n",
    "        #Omegas and proportions\n",
    "        data = json_data[\"fits\"][\"Unconstrained model\"][\"Rate Distributions\"][\"Test\"]\n",
    "        w1 = data[\"0\"][\"omega\"]\n",
    "        p1 = data[\"0\"][\"proportion\"]\n",
    "        w2 = data[\"1\"][\"omega\"]\n",
    "        p2 = data[\"1\"][\"proportion\"]\n",
    "        w3 = data[\"2\"][\"omega\"]\n",
    "        p3 = data[\"2\"][\"proportion\"]\n",
    "        df_dict[basename].update({\"w1\": w1, \"p1\": p1})\n",
    "        df_dict[basename].update({\"w2\": w2, \"p2\": p2})\n",
    "        df_dict[basename].update({\"w3\": w3, \"p3\": p3})\n",
    "\n",
    "        # SRV rates and proportions\n",
    "        if method == \"BUSTEDS-MH\" or method == \"BUSTEDS\":\n",
    "            data = json_data[\"fits\"][\"Unconstrained model\"][\"Rate Distributions\"][\"Synonymous site-to-site rates\"]\n",
    "            s1 = data[\"0\"][\"rate\"]\n",
    "            s_p1 = data[\"0\"][\"proportion\"]\n",
    "            s2 = data[\"1\"][\"rate\"]\n",
    "            s_p2 = data[\"1\"][\"proportion\"]\n",
    "            s3 = data[\"2\"][\"rate\"]\n",
    "            s_p3 = data[\"2\"][\"proportion\"]\n",
    "            df_dict[basename].update({\"SRV1\": s1, \"SRV_p1\": s_p1})\n",
    "            df_dict[basename].update({\"SRV2\": s2, \"SRV_p2\": s_p2})\n",
    "            df_dict[basename].update({\"SRV3\": s3, \"SRV_p3\": s_p3})\n",
    "        \n",
    "        \n",
    "        # DH rate, TH rate, TH_SI rate\n",
    "        if method == \"BUSTEDS-MH\" or method == \"BUSTED-MH\":\n",
    "            df_dict[basename].update({\"DH_Rate\": float(json_data[\"fits\"][\"Unconstrained model\"][\"Rate Distributions\"][\"rate at which 2 nucleotides are changed instantly within a single codon\"])})\n",
    "            df_dict[basename].update({\"TH_Rate\": float(json_data[\"fits\"][\"Unconstrained model\"][\"Rate Distributions\"][\"rate at which 3 nucleotides are changed instantly within a single codon\"])})\n",
    "            #df_dict[basename].update({\"TH_Rate_SI\": float(json_data[\"fits\"][\"Unconstrained model\"][\"rate at which 3 nucleotides are changed instantly within a single codon between synonymous codon islands\"])})\n",
    "        #end if\n",
    "        \n",
    "    # End for\n",
    "    df = pd.DataFrame.from_dict(df_dict, orient=\"index\")\n",
    "    df = df.reset_index()\n",
    "    df.index += 1\n",
    "    df.rename(columns={'index': 'Gene'}, inplace = True)\n",
    "    return df\n",
    "#end method"
   ]
  },
  {
   "cell_type": "markdown",
   "id": "further-ideal",
   "metadata": {},
   "source": [
    "## Look over results"
   ]
  },
  {
   "cell_type": "code",
   "execution_count": 38,
   "id": "given-atlanta",
   "metadata": {
    "tags": []
   },
   "outputs": [
    {
     "name": "stdout",
     "output_type": "stream",
     "text": [
      "# Number of BUSTEDS results: 1\n",
      "# Number of BUSTEDS-MH results: 1\n",
      "# Number of BUSTED results: 1\n",
      "# Number of BUSTED-MH results: 1\n"
     ]
    }
   ],
   "source": [
    "#BUSTEDS_RESULTS = [os.path.join(RESULTS_DIR, file.name) for file in os.scandir(RESULTS_DIR) if file.name.endswith(\".BUSTEDS.json\")]\n",
    "#BUSTEDS_MH_RESULTS = [os.path.join(RESULTS_DIR, file.name) for file in os.scandir(RESULTS_DIR) if file.name.endswith(\".BUSTEDS-MH.json\")]\n",
    "#BUSTED_RESULTS = [os.path.join(RESULTS_DIR, file.name) for file in os.scandir(RESULTS_DIR) if file.name.endswith(\".BUSTED.json\")]\n",
    "#BUSTED_MH_RESULTS = [os.path.join(RESULTS_DIR, file.name) for file in os.scandir(RESULTS_DIR) if file.name.endswith(\".BUSTED-MH.json\")]\n",
    "\n",
    "#print(\"# Number of BUSTEDS results:\", len(BUSTEDS_RESULTS))\n",
    "#print(\"# Number of BUSTEDS-MH results:\", len(BUSTEDS_MH_RESULTS))\n",
    "#print(\"# Number of BUSTED results:\", len(BUSTED_RESULTS))\n",
    "#print(\"# Number of BUSTED-MH results:\", len(BUSTED_MH_RESULTS))\n",
    "\n",
    "#print(\"# Number of SLAC results:\", len(SLAC_DIR_FILES))"
   ]
  },
  {
   "cell_type": "markdown",
   "id": "defa9746-0504-42cb-9b81-ca70e1ae9ad6",
   "metadata": {},
   "source": [
    "## Process"
   ]
  },
  {
   "cell_type": "code",
   "execution_count": 39,
   "id": "academic-shoot",
   "metadata": {},
   "outputs": [
    {
     "name": "stdout",
     "output_type": "stream",
     "text": [
      "# Processing BUSTED[S] files\n"
     ]
    },
    {
     "name": "stderr",
     "output_type": "stream",
     "text": [
      "100%|██████████| 1/1 [00:00<00:00, 50.24it/s]\n"
     ]
    },
    {
     "name": "stdout",
     "output_type": "stream",
     "text": [
      "# Processing: /Users/alex/Documents/BUSTED_ModelTest-develop/results/adh.nex.BUSTEDS.json\n",
      "# Processing BUSTED[S]-MH files\n"
     ]
    },
    {
     "name": "stderr",
     "output_type": "stream",
     "text": [
      "100%|██████████| 1/1 [00:00<00:00, 75.30it/s]\n"
     ]
    },
    {
     "name": "stdout",
     "output_type": "stream",
     "text": [
      "# Processing: /Users/alex/Documents/BUSTED_ModelTest-develop/results/adh.nex.BUSTEDS-MH.json\n",
      "# Processing BUSTED files\n"
     ]
    },
    {
     "name": "stderr",
     "output_type": "stream",
     "text": [
      "100%|██████████| 1/1 [00:00<00:00, 83.32it/s]\n"
     ]
    },
    {
     "name": "stdout",
     "output_type": "stream",
     "text": [
      "# Processing: /Users/alex/Documents/BUSTED_ModelTest-develop/results/adh.nex.BUSTED.json\n",
      "# Processing BUSTED-MH files\n"
     ]
    },
    {
     "name": "stderr",
     "output_type": "stream",
     "text": [
      "100%|██████████| 1/1 [00:00<00:00, 89.38it/s]"
     ]
    },
    {
     "name": "stdout",
     "output_type": "stream",
     "text": [
      "# Processing: /Users/alex/Documents/BUSTED_ModelTest-develop/results/adh.nex.BUSTED-MH.json\n"
     ]
    },
    {
     "name": "stderr",
     "output_type": "stream",
     "text": [
      "\n"
     ]
    }
   ],
   "source": [
    "print(\"# Processing BUSTED[S] files\")\n",
    "df_BUSTEDS = process([BS] , \".BUSTEDS.json\", \"BUSTEDS\", pval_Threshold, Tests)\n",
    "\n",
    "print(\"# Processing BUSTED[S]-MH files\")\n",
    "df_BUSTEDS_MH = process([BSMH], \".BUSTEDS-MH.json\", \"BUSTEDS-MH\", pval_Threshold, Tests)\n",
    "\n",
    "print(\"# Processing BUSTED files\")\n",
    "df_BUSTED = process([BASE] , \".BUSTED.json\", \"BUSTED\", pval_Threshold, Tests)\n",
    "\n",
    "print(\"# Processing BUSTED-MH files\")\n",
    "df_BUSTED_MH = process([BMH], \".BUSTED-MH.json\", \"BUSTED-MH\", pval_Threshold, Tests)\n"
   ]
  },
  {
   "cell_type": "markdown",
   "id": "f5509d43",
   "metadata": {},
   "source": [
    "## Concatenate tables\n"
   ]
  },
  {
   "cell_type": "code",
   "execution_count": 40,
   "id": "908b0296",
   "metadata": {
    "tags": []
   },
   "outputs": [
    {
     "data": {
      "text/html": [
       "<div>\n",
       "<style scoped>\n",
       "    .dataframe tbody tr th:only-of-type {\n",
       "        vertical-align: middle;\n",
       "    }\n",
       "\n",
       "    .dataframe tbody tr th {\n",
       "        vertical-align: top;\n",
       "    }\n",
       "\n",
       "    .dataframe thead th {\n",
       "        text-align: right;\n",
       "    }\n",
       "</style>\n",
       "<table border=\"1\" class=\"dataframe\">\n",
       "  <thead>\n",
       "    <tr style=\"text-align: right;\">\n",
       "      <th></th>\n",
       "      <th>Gene</th>\n",
       "      <th>Method</th>\n",
       "      <th>Sequences</th>\n",
       "      <th>Codons</th>\n",
       "      <th>LRT p-value</th>\n",
       "      <th>Bonferroni p-value</th>\n",
       "      <th>Bonferroni significant</th>\n",
       "      <th>cAIC</th>\n",
       "      <th>w1</th>\n",
       "      <th>p1</th>\n",
       "      <th>...</th>\n",
       "      <th>w3</th>\n",
       "      <th>p3</th>\n",
       "      <th>SRV1</th>\n",
       "      <th>SRV_p1</th>\n",
       "      <th>SRV2</th>\n",
       "      <th>SRV_p2</th>\n",
       "      <th>SRV3</th>\n",
       "      <th>SRV_p3</th>\n",
       "      <th>DH_Rate</th>\n",
       "      <th>TH_Rate</th>\n",
       "    </tr>\n",
       "  </thead>\n",
       "  <tbody>\n",
       "    <tr>\n",
       "      <th>1</th>\n",
       "      <td>adh</td>\n",
       "      <td>BUSTED</td>\n",
       "      <td>23</td>\n",
       "      <td>254</td>\n",
       "      <td>0.000291</td>\n",
       "      <td>0.0125</td>\n",
       "      <td>True</td>\n",
       "      <td>9371.899330</td>\n",
       "      <td>0.030064</td>\n",
       "      <td>0.593490</td>\n",
       "      <td>...</td>\n",
       "      <td>4.736235</td>\n",
       "      <td>0.026144</td>\n",
       "      <td></td>\n",
       "      <td></td>\n",
       "      <td></td>\n",
       "      <td></td>\n",
       "      <td></td>\n",
       "      <td></td>\n",
       "      <td></td>\n",
       "      <td></td>\n",
       "    </tr>\n",
       "    <tr>\n",
       "      <th>2</th>\n",
       "      <td>adh</td>\n",
       "      <td>BUSTED-MH</td>\n",
       "      <td>23</td>\n",
       "      <td>254</td>\n",
       "      <td>0.018530</td>\n",
       "      <td>0.0125</td>\n",
       "      <td>False</td>\n",
       "      <td>9374.775312</td>\n",
       "      <td>0.005940</td>\n",
       "      <td>0.765539</td>\n",
       "      <td>...</td>\n",
       "      <td>4.407523</td>\n",
       "      <td>0.023308</td>\n",
       "      <td></td>\n",
       "      <td></td>\n",
       "      <td></td>\n",
       "      <td></td>\n",
       "      <td></td>\n",
       "      <td></td>\n",
       "      <td>0.075342</td>\n",
       "      <td>0.0</td>\n",
       "    </tr>\n",
       "    <tr>\n",
       "      <th>3</th>\n",
       "      <td>adh</td>\n",
       "      <td>BUSTEDS</td>\n",
       "      <td>23</td>\n",
       "      <td>254</td>\n",
       "      <td>0.001804</td>\n",
       "      <td>0.0125</td>\n",
       "      <td>True</td>\n",
       "      <td>9354.000628</td>\n",
       "      <td>0.037158</td>\n",
       "      <td>0.972162</td>\n",
       "      <td>...</td>\n",
       "      <td>4.044846</td>\n",
       "      <td>0.025535</td>\n",
       "      <td>0.60572</td>\n",
       "      <td>0.423547</td>\n",
       "      <td>0.837581</td>\n",
       "      <td>0.372333</td>\n",
       "      <td>2.114399</td>\n",
       "      <td>0.204119</td>\n",
       "      <td></td>\n",
       "      <td></td>\n",
       "    </tr>\n",
       "    <tr>\n",
       "      <th>4</th>\n",
       "      <td>adh</td>\n",
       "      <td>BUSTEDS-MH</td>\n",
       "      <td>23</td>\n",
       "      <td>254</td>\n",
       "      <td>0.025428</td>\n",
       "      <td>0.0125</td>\n",
       "      <td>False</td>\n",
       "      <td>9357.741829</td>\n",
       "      <td>0.026012</td>\n",
       "      <td>0.264410</td>\n",
       "      <td>...</td>\n",
       "      <td>3.983376</td>\n",
       "      <td>0.024224</td>\n",
       "      <td>0.647182</td>\n",
       "      <td>0.677995</td>\n",
       "      <td>1.446059</td>\n",
       "      <td>0.245643</td>\n",
       "      <td>2.697681</td>\n",
       "      <td>0.076362</td>\n",
       "      <td>0.033178</td>\n",
       "      <td>0.0</td>\n",
       "    </tr>\n",
       "  </tbody>\n",
       "</table>\n",
       "<p>4 rows × 22 columns</p>\n",
       "</div>"
      ],
      "text/plain": [
       "  Gene      Method  Sequences  Codons  LRT p-value  Bonferroni p-value  \\\n",
       "1  adh      BUSTED         23     254     0.000291              0.0125   \n",
       "2  adh   BUSTED-MH         23     254     0.018530              0.0125   \n",
       "3  adh     BUSTEDS         23     254     0.001804              0.0125   \n",
       "4  adh  BUSTEDS-MH         23     254     0.025428              0.0125   \n",
       "\n",
       "  Bonferroni significant         cAIC        w1        p1  ...        w3  \\\n",
       "1                   True  9371.899330  0.030064  0.593490  ...  4.736235   \n",
       "2                  False  9374.775312  0.005940  0.765539  ...  4.407523   \n",
       "3                   True  9354.000628  0.037158  0.972162  ...  4.044846   \n",
       "4                  False  9357.741829  0.026012  0.264410  ...  3.983376   \n",
       "\n",
       "         p3      SRV1    SRV_p1      SRV2    SRV_p2      SRV3    SRV_p3  \\\n",
       "1  0.026144                                                               \n",
       "2  0.023308                                                               \n",
       "3  0.025535   0.60572  0.423547  0.837581  0.372333  2.114399  0.204119   \n",
       "4  0.024224  0.647182  0.677995  1.446059  0.245643  2.697681  0.076362   \n",
       "\n",
       "    DH_Rate TH_Rate  \n",
       "1                    \n",
       "2  0.075342     0.0  \n",
       "3                    \n",
       "4  0.033178     0.0  \n",
       "\n",
       "[4 rows x 22 columns]"
      ]
     },
     "execution_count": 40,
     "metadata": {},
     "output_type": "execute_result"
    }
   ],
   "source": [
    "result = pd.concat([df_BUSTEDS, df_BUSTEDS_MH, df_BUSTED, df_BUSTED_MH])\n",
    "result = result.fillna(\"\")\n",
    "result = result.sort_values(by=[\"Gene\", \"Method\"], ascending=True)\n",
    "result = result.reset_index(drop=True)\n",
    "result.index += 1\n",
    "#result\n"
   ]
  },
  {
   "cell_type": "code",
   "execution_count": 41,
   "id": "amber-gregory",
   "metadata": {},
   "outputs": [
    {
     "data": {
      "text/plain": [
       "Index(['Gene', 'Method', 'Sequences', 'Codons', 'LRT p-value',\n",
       "       'Bonferroni p-value', 'Bonferroni significant', 'cAIC', 'w1', 'p1',\n",
       "       'w2', 'p2', 'w3', 'p3', 'SRV1', 'SRV_p1', 'SRV2', 'SRV_p2', 'SRV3',\n",
       "       'SRV_p3', 'DH_Rate', 'TH_Rate'],\n",
       "      dtype='object')"
      ]
     },
     "execution_count": 41,
     "metadata": {},
     "output_type": "execute_result"
    }
   ],
   "source": [
    "#result.columns"
   ]
  },
  {
   "cell_type": "markdown",
   "id": "brief-halloween",
   "metadata": {},
   "source": [
    "## Save table"
   ]
  },
  {
   "cell_type": "code",
   "execution_count": 42,
   "id": "juvenile-depth",
   "metadata": {},
   "outputs": [
    {
     "name": "stdout",
     "output_type": "stream",
     "text": [
      "Saving results to: /Users/alex/Documents/BUSTED_ModelTest-develop/tables/Table_BUSTED_ModelTest_Results.csv\n"
     ]
    }
   ],
   "source": [
    "print(\"Saving results to:\", OUTPUT_CSV)\n",
    "result.to_csv(OUTPUT_CSV, index=False)"
   ]
  },
  {
   "cell_type": "markdown",
   "id": "4583c5bb",
   "metadata": {},
   "source": [
    "## End of file"
   ]
  }
 ],
 "metadata": {
  "kernelspec": {
   "display_name": "Python 3 (ipykernel)",
   "language": "python",
   "name": "python3"
  },
  "language_info": {
   "codemirror_mode": {
    "name": "ipython",
    "version": 3
   },
   "file_extension": ".py",
   "mimetype": "text/x-python",
   "name": "python",
   "nbconvert_exporter": "python",
   "pygments_lexer": "ipython3",
   "version": "3.9.13"
  }
 },
 "nbformat": 4,
 "nbformat_minor": 5
}
